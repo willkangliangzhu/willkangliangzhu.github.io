{
 "cells": [
  {
   "cell_type": "code",
   "execution_count": 2,
   "metadata": {},
   "outputs": [
    {
     "name": "stderr",
     "output_type": "stream",
     "text": [
      "WARNING:root:Cannot locate objid=75\n"
     ]
    }
   ],
   "source": [
    "from pypinyin import pinyin,lazy_pinyin\n",
    "import pandas as pd\n",
    "import matplotlib\n",
    "import matplotlib.pylab as plt\n",
    "import seaborn as sns\n",
    "\n",
    "from io import StringIO\n",
    "from pdfminer.pdfinterp import PDFResourceManager\n",
    "from pdfminer.pdfinterp import process_pdf\n",
    "from pdfminer.converter import TextConverter\n",
    "from pdfminer.layout import LAParams\n",
    "import re\n",
    "\n",
    "def read_from_pdf(file_path):\n",
    "    \"\"\"\n",
    "    读取pdf文件\n",
    "    \"\"\"\n",
    "    with open(file_path,'rb') as file:\n",
    "        resource_manager = PDFResourceManager()\n",
    "        return_str = StringIO()\n",
    "        lap_params = LAParams()\n",
    "        device = TextConverter(resource_manager,return_str,laparams=lap_params)\n",
    "        process_pdf(resource_manager,device,file)\n",
    "        device.close()\n",
    "        content = return_str.getvalue()\n",
    "        return_str.close()\n",
    "        return re.sub('\\s+','',content) \n",
    "\n",
    "content = read_from_pdf('./input.pdf')\n",
    "shuangpin = lazy_pinyin(\n",
    "    content,\n",
    "    errors='ignore'\n",
    ")"
   ]
  },
  {
   "cell_type": "code",
   "execution_count": 8,
   "metadata": {},
   "outputs": [
    {
     "name": "stdout",
     "output_type": "stream",
     "text": [
      "        num\n",
      "chars      \n",
      "i      7481\n",
      "n      5753\n",
      "e      5325\n",
      "a      4372\n",
      "h      4330\n",
      "u      3655\n",
      "g      3622\n",
      "o      2762\n",
      "d      2425\n",
      "z      2245\n",
      "j      1736\n",
      "s      1565\n",
      "y      1503\n",
      "c      1051\n",
      "l       813\n",
      "x       795\n",
      "b       712\n",
      "t       633\n",
      "m       629\n",
      "w       451\n",
      "q       441\n",
      "f       434\n",
      "r       423\n",
      "k       167\n",
      "p       134\n",
      "v        27\n"
     ]
    },
    {
     "data": {
      "text/plain": [
       "<BarContainer object of 26 artists>"
      ]
     },
     "execution_count": 8,
     "metadata": {},
     "output_type": "execute_result"
    },
    {
     "data": {
      "image/png": "[encoded data removed]",
      "text/plain": [
       "<Figure size 432x288 with 1 Axes>"
      ]
     },
     "metadata": {
      "needs_background": "light"
     },
     "output_type": "display_data"
    }
   ],
   "source": [
    "shuangpin_str = \"\".join(shuangpin)\n",
    "shuangpin_list = list(shuangpin_str)\n",
    "df_sp = pd.DataFrame({'chars': shuangpin_list})\n",
    "df_sp['num'] = 1\n",
    "# 统计每个字母出现的个数 并按照降序排序\n",
    "df_sp_sum = df_sp.groupby('chars').sum().sort_values('num',ascending=False)\n",
    "print(df_sp_sum)\n",
    "# 绘制柱状图\n",
    "plt.bar(df_sp_sum.index,df_sp_sum['num'])"
   ]
  },
  {
   "cell_type": "code",
   "execution_count": 3,
   "metadata": {},
   "outputs": [],
   "source": [
    "with open('./www/default.html', 'r') as fr:\n",
    "    default_page = fr.read()\n",
    "    with open('./www/result.html', 'w') as fw:\n",
    "        fw.write('<div id=\"inputarea\">')\n",
    "        fw.write('<textarea id=\"typefield\">')\n",
    "        # 将获得的拼音输入到页面中的文本框中\n",
    "        fw.write(\" \".join(shuangpin))\n",
    "        fw.write('</textarea>')\n",
    "        fw.write('</div>')\n",
    "        fw.write(default_page)"
   ]
  },
  {
   "cell_type": "code",
   "execution_count": null,
   "metadata": {},
   "outputs": [],
   "source": []
  }
 ],
 "metadata": {
  "kernelspec": {
   "display_name": "Python 3",
   "language": "python",
   "name": "python3"
  },
  "language_info": {
   "codemirror_mode": {
    "name": "ipython",
    "version": 3
   },
   "file_extension": ".py",
   "mimetype": "text/x-python",
   "name": "python",
   "nbconvert_exporter": "python",
   "pygments_lexer": "ipython3",
   "version": "3.7.6"
  }
 },
 "nbformat": 4,
 "nbformat_minor": 4
}

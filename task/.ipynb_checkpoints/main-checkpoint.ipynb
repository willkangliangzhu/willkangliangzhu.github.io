{
 "cells": [
  {
   "cell_type": "code",
   "execution_count": 1,
   "metadata": {},
   "outputs": [
    {
     "name": "stderr",
     "output_type": "stream",
     "text": [
      "WARNING:root:Cannot locate objid=75\n"
     ]
    }
   ],
   "source": [
    "from pypinyin import pinyin,lazy_pinyin\n",
    "import pandas as pd\n",
    "import matplotlib\n",
    "import matplotlib.pylab as plt\n",
    "import seaborn as sns\n",
    "\n",
    "from io import StringIO\n",
    "from pdfminer.pdfinterp import PDFResourceManager\n",
    "from pdfminer.pdfinterp import process_pdf\n",
    "from pdfminer.converter import TextConverter\n",
    "from pdfminer.layout import LAParams\n",
    "import re\n",
    "\n",
    "def read_pdf(file_path):\n",
    "    \"\"\"\n",
    "    读取pdf文件\n",
    "    \"\"\"\n",
    "    with open(file_path,'rb') as file:\n",
    "        resource_manager = PDFResourceManager()\n",
    "        return_str = StringIO()\n",
    "        lap_params = LAParams()\n",
    "        device = TextConverter(resource_manager,return_str,laparams=lap_params)\n",
    "        process_pdf(resource_manager,device,file)\n",
    "        device.close()\n",
    "        content = return_str.getvalue()\n",
    "        return_str.close()\n",
    "        return re.sub('\\s+','',content) \n",
    "\n",
    "content = read_pdf('./input.pdf')\n",
    "quanpin = lazy_pinyin(\n",
    "    content,\n",
    "    errors='ignore'\n",
    ")"
   ]
  },
  {
   "cell_type": "code",
   "execution_count": 2,
   "metadata": {
    "scrolled": false
   },
   "outputs": [
    {
     "name": "stdout",
     "output_type": "stream",
     "text": [
      "        num\n",
      "chars      \n",
      "i      7481\n",
      "n      5753\n",
      "e      5325\n",
      "a      4372\n",
      "h      4330\n",
      "u      3655\n",
      "g      3622\n",
      "o      2762\n",
      "d      2425\n",
      "z      2245\n",
      "j      1736\n",
      "s      1565\n",
      "y      1503\n",
      "c      1051\n",
      "l       813\n",
      "x       795\n",
      "b       712\n",
      "t       633\n",
      "m       629\n",
      "w       451\n",
      "q       441\n",
      "f       434\n",
      "r       423\n",
      "k       167\n",
      "p       134\n",
      "v        27\n"
     ]
    },
    {
     "data": {
      "text/plain": [
       "<BarContainer object of 26 artists>"
      ]
     },
     "execution_count": 2,
     "metadata": {},
     "output_type": "execute_result"
    },
    {
     "data": {
      "image/png": "[encoded data removed]",
      "text/plain": [
       "<Figure size 432x288 with 1 Axes>"
      ]
     },
     "metadata": {
      "needs_background": "light"
     },
     "output_type": "display_data"
    }
   ],
   "source": [
    "quanpin_str = \"\".join(quanpin)\n",
    "quanpin_list = list(quanpin_str)\n",
    "df_qp = pd.DataFrame({'chars': quanpin_list})\n",
    "df_qp['num'] = 1\n",
    "# 统计每个字母出现的个数 并按照降序排序\n",
    "df_qp_sum = df_qp.groupby('chars').sum().sort_values('num',ascending=False)\n",
    "print(df_qp_sum)\n",
    "# 绘制柱状图\n",
    "plt.bar(df_qp_sum.index,df_qp_sum['num'])"
   ]
  },
  {
   "cell_type": "code",
   "execution_count": 69,
   "metadata": {},
   "outputs": [],
   "source": [
    "# 绘制热力图\n",
    "with open('./www/default.html', 'r') as fr:\n",
    "    default_page = fr.read()\n",
    "    with open('./www/result.html', 'w') as fw:\n",
    "        fw.write('<div id=\"inputarea\" hidden=\"hidden\">')\n",
    "        fw.write('<textarea id=\"typefield\">')\n",
    "        # 将获得的拼音输入到页面中的文本框中\n",
    "        fw.write(\" \".join(quanpin))\n",
    "        fw.write('</textarea>')\n",
    "        fw.write('</div>')\n",
    "        fw.write(default_page)"
   ]
  },
  {
   "cell_type": "code",
   "execution_count": 4,
   "metadata": {},
   "outputs": [
    {
     "data": {
      "text/html": [
       "<div>\n",
       "<style scoped>\n",
       "    .dataframe tbody tr th:only-of-type {\n",
       "        vertical-align: middle;\n",
       "    }\n",
       "\n",
       "    .dataframe tbody tr th {\n",
       "        vertical-align: top;\n",
       "    }\n",
       "\n",
       "    .dataframe thead th {\n",
       "        text-align: right;\n",
       "    }\n",
       "</style>\n",
       "<table border=\"1\" class=\"dataframe\">\n",
       "  <thead>\n",
       "    <tr style=\"text-align: right;\">\n",
       "      <th></th>\n",
       "      <th>num</th>\n",
       "    </tr>\n",
       "  </thead>\n",
       "  <tbody>\n",
       "    <tr>\n",
       "      <th>count</th>\n",
       "      <td>26.000000</td>\n",
       "    </tr>\n",
       "    <tr>\n",
       "      <th>mean</th>\n",
       "      <td>2057.076923</td>\n",
       "    </tr>\n",
       "    <tr>\n",
       "      <th>std</th>\n",
       "      <td>2025.066121</td>\n",
       "    </tr>\n",
       "    <tr>\n",
       "      <th>min</th>\n",
       "      <td>27.000000</td>\n",
       "    </tr>\n",
       "    <tr>\n",
       "      <th>25%</th>\n",
       "      <td>495.500000</td>\n",
       "    </tr>\n",
       "    <tr>\n",
       "      <th>50%</th>\n",
       "      <td>1277.000000</td>\n",
       "    </tr>\n",
       "    <tr>\n",
       "      <th>75%</th>\n",
       "      <td>3407.000000</td>\n",
       "    </tr>\n",
       "    <tr>\n",
       "      <th>max</th>\n",
       "      <td>7481.000000</td>\n",
       "    </tr>\n",
       "  </tbody>\n",
       "</table>\n",
       "</div>"
      ],
      "text/plain": [
       "               num\n",
       "count    26.000000\n",
       "mean   2057.076923\n",
       "std    2025.066121\n",
       "min      27.000000\n",
       "25%     495.500000\n",
       "50%    1277.000000\n",
       "75%    3407.000000\n",
       "max    7481.000000"
      ]
     },
     "execution_count": 4,
     "metadata": {},
     "output_type": "execute_result"
    }
   ],
   "source": [
    "# 根据标准差可以判断均衡情况\n",
    "df_qp_sum.describe()"
   ]
  },
  {
   "cell_type": "code",
   "execution_count": 5,
   "metadata": {},
   "outputs": [
    {
     "data": {
      "text/plain": [
       "<matplotlib.axes._subplots.AxesSubplot at 0x29450f1e088>"
      ]
     },
     "execution_count": 5,
     "metadata": {},
     "output_type": "execute_result"
    },
    {
     "data": {
      "image/png": "[encoded data removed]",
      "text/plain": [
       "<Figure size 432x288 with 1 Axes>"
      ]
     },
     "metadata": {
      "needs_background": "light"
     },
     "output_type": "display_data"
    }
   ],
   "source": [
    "# 箱型图可以更直观表示\n",
    "df_qp_sum.plot.box()"
   ]
  },
  {
   "cell_type": "code",
   "execution_count": 6,
   "metadata": {},
   "outputs": [],
   "source": [
    "# 输入效率的评估指标\n",
    "# v[0]表示按键在第几行，v[1]表示所在列，v[2]表示左手还是右手\n",
    "key = {\n",
    "    'q':[0,0.0,0],\n",
    "    'w':[0,1.0,0],\n",
    "    'e':[0,2.0,0],\n",
    "    'r':[0,3.0,0],\n",
    "    't':[0,4.0,0],\n",
    "    'y':[0,5.0,1],\n",
    "    'u':[0,6.0,1],\n",
    "    'i':[0,7.0,1],\n",
    "    'o':[0,8.0,1],\n",
    "    'p':[0,9.0,1],\n",
    "    'a':[1,0.25,0],\n",
    "    's':[1,2.25,0],\n",
    "    'd':[1,3.25,0],\n",
    "    'f':[1,4.25,0],\n",
    "    'g':[1,5.25,1],\n",
    "    'h':[1,6.25,1],\n",
    "    'j':[1,7.25,1],\n",
    "    'k':[1,8.25,1],\n",
    "    'l':[1,9.25,1],\n",
    "    'z':[2,0.5,0],\n",
    "    'x':[2,1.5,0],\n",
    "    'c':[2,2.5,0],\n",
    "    'v':[2,3.5,0],\n",
    "    'b':[2,4.5,1],\n",
    "    'n':[2,5.5,1],\n",
    "    'm':[2,6.5,1]\n",
    "}"
   ]
  },
  {
   "cell_type": "code",
   "execution_count": 7,
   "metadata": {
    "scrolled": false
   },
   "outputs": [
    {
     "data": {
      "text/plain": [
       "91465.61561787303"
      ]
     },
     "execution_count": 7,
     "metadata": {},
     "output_type": "execute_result"
    }
   ],
   "source": [
    "# 效率--简单模拟手指在敲击时的移动距离\n",
    "from math import sqrt,pow\n",
    "def cal_dis(s):\n",
    "    left = []\n",
    "    right = []\n",
    "    res = 0.0\n",
    "    for i in range(0,len(s)):\n",
    "        if(key[s[i]][2] == 0):\n",
    "            if(right == []):\n",
    "                right = key[s[i]]\n",
    "            else:\n",
    "                res += sqrt(pow(key[s[i]][0]-right[0],2)+pow(key[s[i]][1]-right[1],2))\n",
    "                right = key[s[i]]\n",
    "        if(key[s[i]][2] == 1):\n",
    "            if(left == []):\n",
    "                left = key[s[i]]\n",
    "            else:\n",
    "                res += sqrt(pow(key[s[i]][0]-left[0],2)+pow(key[s[i]][1]-left[1],2))\n",
    "                left = key[s[i]]\n",
    "    return res\n",
    "\n",
    "res = cal_dis(quanpin_list)\n",
    "res"
   ]
  },
  {
   "cell_type": "code",
   "execution_count": 8,
   "metadata": {
    "scrolled": false
   },
   "outputs": [
    {
     "name": "stdout",
     "output_type": "stream",
     "text": [
      "        num\n",
      "chars      \n",
      "d      2425\n",
      "j      1736\n",
      "y      1503\n",
      "zh     1384\n",
      "sh     1371\n",
      "g       945\n",
      "z       861\n",
      "ch      820\n",
      "l       813\n",
      "x       795\n",
      "h       755\n",
      "b       712\n",
      "t       633\n",
      "m       629\n",
      "w       451\n",
      "q       441\n",
      "f       434\n",
      "r       317\n",
      "n       235\n",
      "c       231\n",
      "s       194\n",
      "k       167\n",
      "p       134\n",
      "        132\n",
      "        num\n",
      "chars      \n",
      "i      3463\n",
      "e      2705\n",
      "u      1352\n",
      "ong     986\n",
      "an      928\n",
      "en      711\n",
      "ie      683\n",
      "ai      672\n",
      "eng     662\n",
      "a       595\n",
      "uo      534\n",
      "ou      495\n",
      "ian     460\n",
      "ui      442\n",
      "ing     427\n",
      "ang     395\n",
      "ao      372\n",
      "ei      329\n",
      "uan     293\n",
      "in      291\n",
      "iao     274\n",
      "un      158\n",
      "iang    150\n",
      "iu      147\n",
      "ue      127\n",
      "ia      126\n",
      "er      106\n",
      "o        97\n",
      "uang     53\n",
      "ua       41\n",
      "v        25\n",
      "uai      13\n",
      "iong      4\n",
      "ve        2\n"
     ]
    }
   ],
   "source": [
    "# 声母和韵母\n",
    "shengmu = lazy_pinyin(\n",
    "    content,\n",
    "    errors='ignore',\n",
    "    style=3,\n",
    "    strict=False,\n",
    "    v_to_u=False\n",
    ")\n",
    "\n",
    "yunmu = lazy_pinyin(\n",
    "    content,\n",
    "    errors='ignore',\n",
    "    style=5,\n",
    "    strict=False,\n",
    "    v_to_u=False\n",
    ")\n",
    "\n",
    "df_sm = pd.DataFrame({'chars': shengmu})\n",
    "df_sm['num'] = 1\n",
    "df_sm_sum = df_sm.groupby('chars').sum().sort_values('num',ascending=False)\n",
    "print(df_sm_sum)\n",
    "\n",
    "df_ym = pd.DataFrame({'chars': yunmu})\n",
    "df_ym['num'] = 1\n",
    "df_ym_sum = df_ym.groupby('chars').sum().sort_values('num',ascending=False)\n",
    "print(df_ym_sum)"
   ]
  },
  {
   "cell_type": "code",
   "execution_count": 9,
   "metadata": {
    "scrolled": true
   },
   "outputs": [
    {
     "data": {
      "text/plain": [
       "<BarContainer object of 24 artists>"
      ]
     },
     "execution_count": 9,
     "metadata": {},
     "output_type": "execute_result"
    },
    {
     "data": {
      "image/png": "[encoded data removed]",
      "text/plain": [
       "<Figure size 432x288 with 1 Axes>"
      ]
     },
     "metadata": {
      "needs_background": "light"
     },
     "output_type": "display_data"
    }
   ],
   "source": [
    "# 根据pypinyin库中的提示，将y和w作为声母\n",
    "# 有23个声母，34个韵母\n",
    "plt.bar(df_sm_sum.index,df_sm_sum['num'])"
   ]
  },
  {
   "cell_type": "code",
   "execution_count": 10,
   "metadata": {
    "scrolled": true
   },
   "outputs": [
    {
     "data": {
      "text/plain": [
       "<BarContainer object of 34 artists>"
      ]
     },
     "execution_count": 10,
     "metadata": {},
     "output_type": "execute_result"
    },
    {
     "data": {
      "image/png": "[encoded data removed]",
      "text/plain": [
       "<Figure size 432x288 with 1 Axes>"
      ]
     },
     "metadata": {
      "needs_background": "light"
     },
     "output_type": "display_data"
    }
   ],
   "source": [
    "plt.bar(df_ym_sum.index,df_ym_sum['num'])"
   ]
  },
  {
   "cell_type": "code",
   "execution_count": 11,
   "metadata": {},
   "outputs": [
    {
     "data": {
      "text/plain": [
       "{'d': 'd',\n",
       " 'j': 'j',\n",
       " 'y': 'y',\n",
       " 'zh': 'o',\n",
       " 'sh': 'v',\n",
       " 'g': 'g',\n",
       " 'z': 'z',\n",
       " 'ch': 'a',\n",
       " 'l': 'l',\n",
       " 'x': 'x',\n",
       " 'h': 'h',\n",
       " 'b': 'b',\n",
       " 't': 't',\n",
       " 'm': 'm',\n",
       " 'w': 'w',\n",
       " 'q': 'q',\n",
       " 'f': 'f',\n",
       " 'r': 'r',\n",
       " 'n': 'n',\n",
       " 'c': 'c',\n",
       " 's': 's',\n",
       " 'k': 'k',\n",
       " 'p': 'p',\n",
       " 'i': 'i',\n",
       " 'e': 'e',\n",
       " 'u': 'u',\n",
       " 'ong': 'p',\n",
       " 'an': 'k',\n",
       " 'en': 's',\n",
       " 'ie': 'c',\n",
       " 'ai': 'n',\n",
       " 'eng': 'r',\n",
       " 'a': 'a',\n",
       " 'uo': 'f',\n",
       " 'ou': 'q',\n",
       " 'ian': 'w',\n",
       " 'ui': 'm',\n",
       " 'ing': 't',\n",
       " 'ang': 'b',\n",
       " 'ao': 'h',\n",
       " 'ei': 'x',\n",
       " 'uan': 'l',\n",
       " 'in': 'z',\n",
       " 'iao': 'g',\n",
       " 'un': 'y',\n",
       " 'iang': 'j',\n",
       " 'iu': 'd',\n",
       " 'ue': 'p',\n",
       " 'ia': 'k',\n",
       " 'er': 's',\n",
       " 'o': 'c',\n",
       " 'uang': 'n',\n",
       " 'ua': 'r',\n",
       " 'v': 'f',\n",
       " 'uai': 'q',\n",
       " 'iong': 'w',\n",
       " 've': 'm'}"
      ]
     },
     "execution_count": 11,
     "metadata": {},
     "output_type": "execute_result"
    }
   ],
   "source": [
    "# 双拼输入法 将输入的第一个字母作为声母，第二个字母作为韵母\n",
    "# 由于声母的个数比26个字母要多 因此可能会有重码的情况 但为了简化忽略重码时选择文字的时间\n",
    "# 原26个字母按照原来的规则作为声母或者韵母\n",
    "# 将统计的得到的出现最多的声母按键分配出现最少的韵母\n",
    "category = {}\n",
    "sm_list = list(df_sm_sum.index)\n",
    "sm_list = sm_list[0:-1]\n",
    "for i in range(0,len(sm_list)):\n",
    "    if sm_list[i] == 'zh':\n",
    "        category.update({'zh':'o'})\n",
    "        continue\n",
    "    if sm_list[i] == 'sh':\n",
    "        category.update({'sh':'v'})\n",
    "        continue\n",
    "    if sm_list[i] == 'ch':\n",
    "        category.update({'ch':'a'})\n",
    "        continue\n",
    "    category.update({sm_list[i]:sm_list[i]})\n",
    "\n",
    "sm_list_re = sm_list[::-1]\n",
    "l = len(sm_list_re)\n",
    "j = 0\n",
    "ym_list = list(df_ym_sum.index)\n",
    "slist = ['i','e','u','a','0']\n",
    "for i in range(0,len(ym_list)):\n",
    "    while sm_list_re[j%l] == 'ch' or sm_list_re[j%l] == 'sh' or sm_list_re[j%l] == 'zh':\n",
    "        j += 1\n",
    "    if ym_list[i] in slist:\n",
    "        category.update({ym_list[i]:ym_list[i]})\n",
    "    else:\n",
    "        category.update({ym_list[i]:sm_list_re[j%l]})\n",
    "        j += 1\n",
    "\n",
    "# 有的文字会只有韵母没有声母的情况 单独考虑\n",
    "special_categroy = {\n",
    "    'a': 'aa',\n",
    "    'ai': 'ai',\n",
    "    'an': 'an',\n",
    "    'ang': 'ah',\n",
    "    'ao': 'ao',\n",
    "    'e': 'ee',\n",
    "    'ei': 'ei',\n",
    "    'en': 'en',\n",
    "    'er': 'er',\n",
    "    'eng': 'eg',\n",
    "    'o': 'oo',\n",
    "    'ou': 'ou',\n",
    "}\n",
    "\n",
    "category"
   ]
  },
  {
   "cell_type": "code",
   "execution_count": 12,
   "metadata": {},
   "outputs": [
    {
     "data": {
      "text/html": [
       "<div>\n",
       "<style scoped>\n",
       "    .dataframe tbody tr th:only-of-type {\n",
       "        vertical-align: middle;\n",
       "    }\n",
       "\n",
       "    .dataframe tbody tr th {\n",
       "        vertical-align: top;\n",
       "    }\n",
       "\n",
       "    .dataframe thead th {\n",
       "        text-align: right;\n",
       "    }\n",
       "</style>\n",
       "<table border=\"1\" class=\"dataframe\">\n",
       "  <thead>\n",
       "    <tr style=\"text-align: right;\">\n",
       "      <th></th>\n",
       "      <th>num</th>\n",
       "    </tr>\n",
       "  </thead>\n",
       "  <tbody>\n",
       "    <tr>\n",
       "      <th>count</th>\n",
       "      <td>26.000000</td>\n",
       "    </tr>\n",
       "    <tr>\n",
       "      <th>mean</th>\n",
       "      <td>1393.692308</td>\n",
       "    </tr>\n",
       "    <tr>\n",
       "      <th>std</th>\n",
       "      <td>630.339069</td>\n",
       "    </tr>\n",
       "    <tr>\n",
       "      <th>min</th>\n",
       "      <td>905.000000</td>\n",
       "    </tr>\n",
       "    <tr>\n",
       "      <th>25%</th>\n",
       "      <td>1063.250000</td>\n",
       "    </tr>\n",
       "    <tr>\n",
       "      <th>50%</th>\n",
       "      <td>1139.000000</td>\n",
       "    </tr>\n",
       "    <tr>\n",
       "      <th>75%</th>\n",
       "      <td>1386.750000</td>\n",
       "    </tr>\n",
       "    <tr>\n",
       "      <th>max</th>\n",
       "      <td>3469.000000</td>\n",
       "    </tr>\n",
       "  </tbody>\n",
       "</table>\n",
       "</div>"
      ],
      "text/plain": [
       "               num\n",
       "count    26.000000\n",
       "mean   1393.692308\n",
       "std     630.339069\n",
       "min     905.000000\n",
       "25%    1063.250000\n",
       "50%    1139.000000\n",
       "75%    1386.750000\n",
       "max    3469.000000"
      ]
     },
     "execution_count": 12,
     "metadata": {},
     "output_type": "execute_result"
    }
   ],
   "source": [
    "def changeCode(x):\n",
    "    # 没有声母\n",
    "    if x[0] == \"\":\n",
    "        return special_categroy[x[1]]\n",
    "    else:\n",
    "        return category[x[0]] + category[x[1]]\n",
    "\n",
    "change_res = list(map(changeCode, zip(shengmu,yunmu)))\n",
    "\n",
    "change_str = \"\".join(change_res)\n",
    "change_list = list(change_str)\n",
    "df_ch = pd.DataFrame({'chars': change_list})\n",
    "df_ch['num'] = 1\n",
    "df_ch_sum = df_ch.groupby('chars').sum().sort_values('num',ascending=False)\n",
    "df_ch_sum.describe()"
   ]
  },
  {
   "cell_type": "code",
   "execution_count": 13,
   "metadata": {},
   "outputs": [
    {
     "name": "stdout",
     "output_type": "stream",
     "text": [
      "70233.68875846446\n"
     ]
    }
   ],
   "source": [
    "# 效率变高\n",
    "print(cal_dis(change_list))"
   ]
  },
  {
   "cell_type": "code",
   "execution_count": 14,
   "metadata": {
    "scrolled": true
   },
   "outputs": [
    {
     "data": {
      "text/plain": [
       "<matplotlib.axes._subplots.AxesSubplot at 0x29451058c48>"
      ]
     },
     "execution_count": 14,
     "metadata": {},
     "output_type": "execute_result"
    },
    {
     "data": {
      "image/png": "[encoded data removed]",
      "text/plain": [
       "<Figure size 432x288 with 1 Axes>"
      ]
     },
     "metadata": {
      "needs_background": "light"
     },
     "output_type": "display_data"
    }
   ],
   "source": [
    "df_ch_sum.plot.box()"
   ]
  },
  {
   "cell_type": "code",
   "execution_count": 15,
   "metadata": {
    "scrolled": true
   },
   "outputs": [
    {
     "data": {
      "text/plain": [
       "<BarContainer object of 26 artists>"
      ]
     },
     "execution_count": 15,
     "metadata": {},
     "output_type": "execute_result"
    },
    {
     "data": {
      "image/png": "[encoded data removed]",
      "text/plain": [
       "<Figure size 432x288 with 1 Axes>"
      ]
     },
     "metadata": {
      "needs_background": "light"
     },
     "output_type": "display_data"
    }
   ],
   "source": [
    "# 修改后的柱状图\n",
    "plt.bar(df_ch_sum.index,df_ch_sum['num'])"
   ]
  },
  {
   "cell_type": "code",
   "execution_count": 70,
   "metadata": {},
   "outputs": [],
   "source": [
    "with open('./www/default.html', 'r') as fr:\n",
    "    default_page = fr.read()\n",
    "    with open('./www/change.html', 'w') as fw:\n",
    "        fw.write('<div id=\"inputarea\" hidden=\"hidden\">')\n",
    "        fw.write('<textarea id=\"typefield\">')\n",
    "        # 将获得的拼音输入到页面中的文本框中\n",
    "        fw.write(\" \".join(change_res))\n",
    "        fw.write('</textarea>')\n",
    "        fw.write('</div>')\n",
    "        fw.write(default_page)"
   ]
  },
  {
   "cell_type": "code",
   "execution_count": 18,
   "metadata": {
    "scrolled": true
   },
   "outputs": [],
   "source": [
    "# 自然码双拼方案\n",
    "# 自然码双拼中不会出现重码情况\n",
    "category2 = {\n",
    "    'q':'q',\n",
    "    'w':'w',\n",
    "    'e':'e',\n",
    "    'r':'r',\n",
    "    't':'t',\n",
    "    'y':'y',\n",
    "    'u':'u',\n",
    "    'i':'i',\n",
    "    'o':'o',\n",
    "    'p':'p',\n",
    "    'a':'a',\n",
    "    's':'s',\n",
    "    'd':'d',\n",
    "    'f':'f',\n",
    "    'g':'g',\n",
    "    'h':'h',\n",
    "    'j':'j',\n",
    "    'k':'k',\n",
    "    'l':'l',\n",
    "    'z':'z',\n",
    "    'x':'x',\n",
    "    'c':'c',\n",
    "    'v':'v',\n",
    "    'b':'b',\n",
    "    'n':'n',\n",
    "    'm':'m',\n",
    "    'iu':'q',\n",
    "    'ia':'w',\n",
    "    'ua':'w',\n",
    "    'uan':'r',\n",
    "    've':'t',\n",
    "    'ue':'t',\n",
    "    'uai':'y',\n",
    "    'ing':'y',\n",
    "    'sh':'u',\n",
    "    'ch':'i',\n",
    "    'uo':'o',\n",
    "    'un':'p',\n",
    "    'ong':'s',\n",
    "    'er':'e',\n",
    "    'iong':'s',\n",
    "    'iang':'d',\n",
    "    'uang':'d',\n",
    "    'en':'f',\n",
    "    'eng':'g',\n",
    "    'ang':'h',\n",
    "    'an':'j',\n",
    "    'ao':'k',\n",
    "    'ai':'l',\n",
    "    'ei':'z',\n",
    "    'ie':'x',\n",
    "    'iao':'c',\n",
    "    'ui':'v',\n",
    "    'zh':'v',\n",
    "    'ou':'b',\n",
    "    'in':'n',\n",
    "    'ian':'m'\n",
    "}\n",
    "\n",
    "special_categroy = {\n",
    "    'a': 'aa',\n",
    "    'ai': 'ai',\n",
    "    'an': 'an',\n",
    "    'ang': 'ah',\n",
    "    'ao': 'ao',\n",
    "    'e': 'ee',\n",
    "    'ei': 'ei',\n",
    "    'en': 'en',\n",
    "    'er': 'er',\n",
    "    'eng': 'eg',\n",
    "    'o': 'oo',\n",
    "    'ou': 'ou',\n",
    "}\n",
    "def changeCode2(x):\n",
    "    # 没有声母\n",
    "    if x[0] == \"\":\n",
    "        return special_categroy[x[1]]\n",
    "    else:\n",
    "        return category2[x[0]] + category2[x[1]]"
   ]
  },
  {
   "cell_type": "code",
   "execution_count": 27,
   "metadata": {},
   "outputs": [
    {
     "data": {
      "text/plain": [
       "<BarContainer object of 26 artists>"
      ]
     },
     "execution_count": 27,
     "metadata": {},
     "output_type": "execute_result"
    },
    {
     "data": {
      "image/png": "[encoded data removed]",
      "text/plain": [
       "<Figure size 432x288 with 1 Axes>"
      ]
     },
     "metadata": {
      "needs_background": "light"
     },
     "output_type": "display_data"
    }
   ],
   "source": [
    "nature = list(map(changeCode2, zip(shengmu,yunmu)))\n",
    "na_str = \"\".join(nature)\n",
    "na_list = list(na_str)\n",
    "df_na = pd.DataFrame({'chars':na_list})\n",
    "df_na['num'] = 1\n",
    "df_na_sum = df_na.groupby('chars').sum().sort_values('num',ascending=False)\n",
    "plt.bar(df_na_sum.index,df_na_sum['num'])"
   ]
  },
  {
   "cell_type": "code",
   "execution_count": 25,
   "metadata": {},
   "outputs": [
    {
     "data": {
      "text/plain": [
       "<matplotlib.axes._subplots.AxesSubplot at 0x29453ae6708>"
      ]
     },
     "execution_count": 25,
     "metadata": {},
     "output_type": "execute_result"
    },
    {
     "data": {
      "image/png": "[encoded data removed]",
      "text/plain": [
       "<Figure size 432x288 with 1 Axes>"
      ]
     },
     "metadata": {
      "needs_background": "light"
     },
     "output_type": "display_data"
    }
   ],
   "source": [
    "df_na_sum.plot.box()"
   ]
  },
  {
   "cell_type": "code",
   "execution_count": 28,
   "metadata": {},
   "outputs": [
    {
     "name": "stdout",
     "output_type": "stream",
     "text": [
      "64397.31524310782\n"
     ]
    }
   ],
   "source": [
    "print(cal_dis(na_list))"
   ]
  },
  {
   "cell_type": "code",
   "execution_count": 71,
   "metadata": {},
   "outputs": [],
   "source": [
    "with open('./www/default.html', 'r') as fr:\n",
    "    default_page = fr.read()\n",
    "    with open('./www/nature.html', 'w') as fw:\n",
    "        fw.write('<div id=\"inputarea\" hidden=\"hidden\">')\n",
    "        fw.write('<textarea id=\"typefield\">')\n",
    "        # 将获得的拼音输入到页面中的文本框中\n",
    "        fw.write(\" \".join(nature))\n",
    "        fw.write('</textarea>')\n",
    "        fw.write('</div>')\n",
    "        fw.write(default_page)"
   ]
  },
  {
   "cell_type": "code",
   "execution_count": 59,
   "metadata": {},
   "outputs": [],
   "source": [
    "# 将a/f按键分配给最少使用到的按键\n",
    "# 再将改变后的最少使用的按键和QWERSD交换\n",
    "change_key = {\n",
    "    'a':'c',\n",
    "    'f':'p',\n",
    "    'q':'q',\n",
    "    'w':'w',\n",
    "    'e':'n',\n",
    "    'n':'e',\n",
    "    'k':'d',\n",
    "    'd':'k',\n",
    "    'r':'r',\n",
    "    's':'t',\n",
    "    't':'s',\n",
    "    'o':'o',\n",
    "    'm':'m',\n",
    "    'y':'y',\n",
    "    'u':'u',\n",
    "    'i':'i',\n",
    "    'p':'p',\n",
    "    'g':'g',\n",
    "    'h':'h',\n",
    "    'j':'j',\n",
    "    'l':'l',\n",
    "    'z':'z',\n",
    "    'x':'x',\n",
    "    'c':'c',\n",
    "    'v':'v',\n",
    "    'b':'b',\n",
    "}\n",
    "change_nature = list(map(lambda x : change_key[x],na_list))"
   ]
  },
  {
   "cell_type": "code",
   "execution_count": 88,
   "metadata": {},
   "outputs": [
    {
     "data": {
      "text/html": [
       "<div>\n",
       "<style scoped>\n",
       "    .dataframe tbody tr th:only-of-type {\n",
       "        vertical-align: middle;\n",
       "    }\n",
       "\n",
       "    .dataframe tbody tr th {\n",
       "        vertical-align: top;\n",
       "    }\n",
       "\n",
       "    .dataframe thead th {\n",
       "        text-align: right;\n",
       "    }\n",
       "</style>\n",
       "<table border=\"1\" class=\"dataframe\">\n",
       "  <thead>\n",
       "    <tr style=\"text-align: right;\">\n",
       "      <th></th>\n",
       "      <th>num</th>\n",
       "    </tr>\n",
       "    <tr>\n",
       "      <th>chars</th>\n",
       "      <th></th>\n",
       "    </tr>\n",
       "  </thead>\n",
       "  <tbody>\n",
       "    <tr>\n",
       "      <th>i</th>\n",
       "      <td>4289</td>\n",
       "    </tr>\n",
       "    <tr>\n",
       "      <th>n</th>\n",
       "      <td>2814</td>\n",
       "    </tr>\n",
       "    <tr>\n",
       "      <th>u</th>\n",
       "      <td>2730</td>\n",
       "    </tr>\n",
       "    <tr>\n",
       "      <th>j</th>\n",
       "      <td>2656</td>\n",
       "    </tr>\n",
       "    <tr>\n",
       "      <th>k</th>\n",
       "      <td>2628</td>\n",
       "    </tr>\n",
       "    <tr>\n",
       "      <th>y</th>\n",
       "      <td>1943</td>\n",
       "    </tr>\n",
       "    <tr>\n",
       "      <th>v</th>\n",
       "      <td>1851</td>\n",
       "    </tr>\n",
       "    <tr>\n",
       "      <th>g</th>\n",
       "      <td>1607</td>\n",
       "    </tr>\n",
       "    <tr>\n",
       "      <th>l</th>\n",
       "      <td>1479</td>\n",
       "    </tr>\n",
       "    <tr>\n",
       "      <th>x</th>\n",
       "      <td>1478</td>\n",
       "    </tr>\n",
       "    <tr>\n",
       "      <th>p</th>\n",
       "      <td>1437</td>\n",
       "    </tr>\n",
       "    <tr>\n",
       "      <th>b</th>\n",
       "      <td>1200</td>\n",
       "    </tr>\n",
       "    <tr>\n",
       "      <th>z</th>\n",
       "      <td>1190</td>\n",
       "    </tr>\n",
       "    <tr>\n",
       "      <th>t</th>\n",
       "      <td>1184</td>\n",
       "    </tr>\n",
       "    <tr>\n",
       "      <th>h</th>\n",
       "      <td>1150</td>\n",
       "    </tr>\n",
       "    <tr>\n",
       "      <th>c</th>\n",
       "      <td>1116</td>\n",
       "    </tr>\n",
       "    <tr>\n",
       "      <th>m</th>\n",
       "      <td>1089</td>\n",
       "    </tr>\n",
       "    <tr>\n",
       "      <th>s</th>\n",
       "      <td>762</td>\n",
       "    </tr>\n",
       "    <tr>\n",
       "      <th>r</th>\n",
       "      <td>716</td>\n",
       "    </tr>\n",
       "    <tr>\n",
       "      <th>o</th>\n",
       "      <td>639</td>\n",
       "    </tr>\n",
       "    <tr>\n",
       "      <th>w</th>\n",
       "      <td>618</td>\n",
       "    </tr>\n",
       "    <tr>\n",
       "      <th>q</th>\n",
       "      <td>588</td>\n",
       "    </tr>\n",
       "    <tr>\n",
       "      <th>d</th>\n",
       "      <td>538</td>\n",
       "    </tr>\n",
       "    <tr>\n",
       "      <th>e</th>\n",
       "      <td>534</td>\n",
       "    </tr>\n",
       "  </tbody>\n",
       "</table>\n",
       "</div>"
      ],
      "text/plain": [
       "        num\n",
       "chars      \n",
       "i      4289\n",
       "n      2814\n",
       "u      2730\n",
       "j      2656\n",
       "k      2628\n",
       "y      1943\n",
       "v      1851\n",
       "g      1607\n",
       "l      1479\n",
       "x      1478\n",
       "p      1437\n",
       "b      1200\n",
       "z      1190\n",
       "t      1184\n",
       "h      1150\n",
       "c      1116\n",
       "m      1089\n",
       "s       762\n",
       "r       716\n",
       "o       639\n",
       "w       618\n",
       "q       588\n",
       "d       538\n",
       "e       534"
      ]
     },
     "execution_count": 88,
     "metadata": {},
     "output_type": "execute_result"
    }
   ],
   "source": [
    "\n",
    "df_chna = pd.DataFrame({'chars':list(\"\".join(change_nature))})\n",
    "df_chna['num'] = 1\n",
    "df_chna_sum = df_chna.groupby('chars').sum().sort_values('num',ascending=False)\n",
    "a = ['a',0]\n",
    "f = ['f',0]\n",
    "df_chna_sum.append(a)\n",
    "df_chna_sum.append(f)\n",
    "# df_chna_sum.describe()\n",
    "df_chna_sum"
   ]
  },
  {
   "cell_type": "code",
   "execution_count": 61,
   "metadata": {},
   "outputs": [
    {
     "data": {
      "text/plain": [
       "<matplotlib.axes._subplots.AxesSubplot at 0x29453410648>"
      ]
     },
     "execution_count": 61,
     "metadata": {},
     "output_type": "execute_result"
    },
    {
     "data": {
      "image/png": "[encoded data removed]",
      "text/plain": [
       "<Figure size 432x288 with 1 Axes>"
      ]
     },
     "metadata": {
      "needs_background": "light"
     },
     "output_type": "display_data"
    }
   ],
   "source": [
    "df_chna_sum.plot.box()"
   ]
  },
  {
   "cell_type": "code",
   "execution_count": 62,
   "metadata": {},
   "outputs": [
    {
     "data": {
      "text/plain": [
       "<BarContainer object of 24 artists>"
      ]
     },
     "execution_count": 62,
     "metadata": {},
     "output_type": "execute_result"
    },
    {
     "data": {
      "image/png": "[encoded data removed]",
      "text/plain": [
       "<Figure size 432x288 with 1 Axes>"
      ]
     },
     "metadata": {
      "needs_background": "light"
     },
     "output_type": "display_data"
    }
   ],
   "source": [
    "plt.bar(df_chna_sum.index,df_chna_sum['num'])"
   ]
  },
  {
   "cell_type": "code",
   "execution_count": 72,
   "metadata": {},
   "outputs": [],
   "source": [
    "with open('./www/default.html', 'r') as fr:\n",
    "    default_page = fr.read()\n",
    "    with open('./www/naturechange.html', 'w') as fw:\n",
    "        fw.write('<div id=\"inputarea\" hidden=\"hidden\">')\n",
    "        fw.write('<textarea id=\"typefield\">')\n",
    "        # 将获得的拼音输入到页面中的文本框中\n",
    "        fw.write(\" \".join(change_nature))\n",
    "        fw.write('</textarea>')\n",
    "        fw.write('</div>')\n",
    "        fw.write(default_page)"
   ]
  },
  {
   "cell_type": "code",
   "execution_count": 73,
   "metadata": {},
   "outputs": [
    {
     "name": "stdout",
     "output_type": "stream",
     "text": [
      "68159.48423225543\n"
     ]
    }
   ],
   "source": [
    "# 计算输入效率\n",
    "print(cal_dis(change_nature))"
   ]
  }
 ],
 "metadata": {
  "kernelspec": {
   "display_name": "Python 3",
   "language": "python",
   "name": "python3"
  },
  "language_info": {
   "codemirror_mode": {
    "name": "ipython",
    "version": 3
   },
   "file_extension": ".py",
   "mimetype": "text/x-python",
   "name": "python",
   "nbconvert_exporter": "python",
   "pygments_lexer": "ipython3",
   "version": "3.7.6"
  }
 },
 "nbformat": 4,
 "nbformat_minor": 4
}

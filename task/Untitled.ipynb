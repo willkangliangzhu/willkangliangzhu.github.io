{
 "cells": [
  {
   "cell_type": "code",
   "execution_count": null,
   "metadata": {},
   "outputs": [],
   "source": [
    "from pypinyin import pinyin,lazy_pinyin\n",
    "import pandas as pd\n",
    "import matplotlib\n",
    "import matplotlib.pylab as plt\n",
    "import seaborn as sns\n",
    "\n",
    "from io import StringIO\n",
    "from pdfminer.pdfinterp import PDFResourceManager\n",
    "from pdfminer.pdfinterp import process_pdf\n",
    "from pdfminer.converter import TextConverter\n",
    "from pdfminer.layout import LAParams\n",
    "import re\n",
    "\n",
    "def read_from_pdf(file_path):\n",
    "    \"\"\"\n",
    "    读取pdf文件\n",
    "    \"\"\"\n",
    "    with open(file_path,'rb') as file:\n",
    "        resource_manager = PDFResourceManager()\n",
    "        return_str = StringIO()\n",
    "        lap_params = LAParams()\n",
    "        device = TextConverter(resource_manager,return_str,laparams=lap_params)\n",
    "        process_pdf(resource_manager,device,file)\n",
    "        device.close()\n",
    "        content = return_str.getvalue()\n",
    "        return_str.close()\n",
    "        return re.sub('\\s+','',content) \n",
    "\n",
    "content = read_from_pdf('./input.pdf')\n",
    "shuangpin = lazy_pinyin(\n",
    "    content,\n",
    "    errors='ignore'\n",
    ")\n"
   ]
  },
  {
   "cell_type": "code",
   "execution_count": null,
   "metadata": {},
   "outputs": [],
   "source": [
    "shuangpin_str = \"\".join(shuangpin)\n",
    "shuangpin_list = list(shuangpin_str)\n",
    "df_sp = pd.DataFrame({'chars': shuangpin_list})\n",
    "df_sp['num'] = 1\n",
    "# 统计每个字母出现的个数 并按照降序排序\n",
    "df_sp_sum = df_sp.groupby('chars').sum().sort_values('num',ascending=False)\n",
    "# print(df_sp_sum)\n",
    "# 绘制柱状图\n",
    "plt.bar(df_sp_sum.index,df_sp_sum['num'])\n"
   ]
  },
  {
   "cell_type": "code",
   "execution_count": null,
   "metadata": {},
   "outputs": [],
   "source": [
    "with open('./www/default.html', 'r') as fr:\n",
    "    default_page = fr.read()\n",
    "    with open('./www/full.html', 'w') as fw:\n",
    "        fw.write('<div id=\"inputarea\">')\n",
    "        fw.write('<textarea id=\"typefield\">')\n",
    "        fw.write(\" \".join(shuangpin))\n",
    "        fw.write('</textarea>')\n",
    "        fw.write('</div>')\n",
    "        fw.write(default_page)"
   ]
  }
 ],
 "metadata": {
  "kernelspec": {
   "display_name": "Python 3",
   "language": "python",
   "name": "python3"
  },
  "language_info": {
   "codemirror_mode": {
    "name": "ipython",
    "version": 3
   },
   "file_extension": ".py",
   "mimetype": "text/x-python",
   "name": "python",
   "nbconvert_exporter": "python",
   "pygments_lexer": "ipython3",
   "version": "3.7.6"
  }
 },
 "nbformat": 4,
 "nbformat_minor": 4
}
